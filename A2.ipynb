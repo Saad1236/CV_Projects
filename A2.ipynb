{
 "cells": [
  {
   "cell_type": "code",
   "execution_count": 1,
   "metadata": {},
   "outputs": [],
   "source": [
    "#importing necessary libraries\n",
    "import cv2\n",
    "import numpy as np"
   ]
  },
  {
   "cell_type": "code",
   "execution_count": 2,
   "metadata": {},
   "outputs": [],
   "source": [
    "# Load the image\n",
    "img = cv2.imread(\"cat.PNG\")"
   ]
  },
  {
   "cell_type": "code",
   "execution_count": 3,
   "metadata": {},
   "outputs": [],
   "source": [
    "# Define the transformation matrix for Translation\n",
    "tx, ty = 60, 100\n",
    "M_translation = np.float32([[1, 0, tx], \n",
    "                            [0, 1, ty]])"
   ]
  },
  {
   "cell_type": "code",
   "execution_count": 4,
   "metadata": {},
   "outputs": [],
   "source": [
    "# Define the transformation matrix for Euclidean transformation\n",
    "angle = 30\n",
    "M_euclidean = cv2.getRotationMatrix2D((img.shape[1]//2, img.shape[0]//2), angle, 1)\n",
    "M_euclidean[0, 2] += tx \n",
    "M_euclidean[1, 2] += ty\n"
   ]
  },
  {
   "cell_type": "code",
   "execution_count": 5,
   "metadata": {},
   "outputs": [],
   "source": [
    "# Define the transformation matrix for Similarity transformation scaling and translation only\n",
    "scale = 0.2\n",
    "x_translation = 255 #just to view the image in center\n",
    "M_similarity = np.float32([[scale, 0, 30], \n",
    "                           [0, scale, 30]])"
   ]
  },
  {
   "cell_type": "code",
   "execution_count": 6,
   "metadata": {},
   "outputs": [],
   "source": [
    "# Define the transformation matrix for Affine transformation\n",
    "pts1 = np.float32([[150, 30], \n",
    "                   [250, 15], \n",
    "                   [100, 100]])\n",
    "pts2 = np.float32([[150, 150], \n",
    "                   [160, 100], \n",
    "                   [130, 165]])\n",
    "M_affine = cv2.getAffineTransform(pts1, pts2)"
   ]
  },
  {
   "cell_type": "code",
   "execution_count": 7,
   "metadata": {},
   "outputs": [],
   "source": [
    "# Define the transformation matrix for Projective transformation\n",
    "pts3 = np.float32([[56, 68], \n",
    "                   [350, 52], \n",
    "                   [10, 368], \n",
    "                   [350, 300]])\n",
    "pts4 = np.float32([[0, 0], \n",
    "                   [200, 0], \n",
    "                   [0, 200], \n",
    "                   [200, 200]])\n",
    "M_projective = cv2.getPerspectiveTransform(pts3, pts4) \n"
   ]
  },
  {
   "cell_type": "code",
   "execution_count": 8,
   "metadata": {},
   "outputs": [
    {
     "name": "stdout",
     "output_type": "stream",
     "text": [
      "size: (285, 254, 3) 254 285\n"
     ]
    }
   ],
   "source": [
    "print('size:', img.shape, img.shape[1], img.shape[0])"
   ]
  },
  {
   "cell_type": "code",
   "execution_count": 9,
   "metadata": {},
   "outputs": [],
   "source": [
    "# Perform the transformations\n",
    "translated_img = cv2.warpAffine(img, M_translation, (img.shape[1], img.shape[0]))\n",
    "euclidean_img = cv2.warpAffine(img, M_euclidean, (img.shape[1], img.shape[0]))\n",
    "similarity_img = cv2.warpAffine(img, M_similarity, (img.shape[1], img.shape[0]))\n",
    "affine_img = cv2.warpAffine(img, M_affine, (img.shape[1], img.shape[0]))\n",
    "projective_img = cv2.warpPerspective(img, M_projective, (img.shape[1], img.shape[0]))\n",
    "rotated = cv2.rotate(projective_img, cv2.ROTATE_90_CLOCKWISE)\n"
   ]
  },
  {
   "cell_type": "code",
   "execution_count": 10,
   "metadata": {},
   "outputs": [],
   "source": [
    "#fliped image\n",
    "img_flipped = cv2.flip(img, 1) #Horizontal\n",
    "img_flipped = cv2.flip(img, 0) #Vertical"
   ]
  },
  {
   "cell_type": "code",
   "execution_count": 11,
   "metadata": {},
   "outputs": [],
   "source": [
    "# Display the original and transformed images\n",
    "\n",
    "cv2.imshow('Original Image', img)\n",
    "cv2.imshow('Translated Image', translated_img)\n",
    "cv2.imshow('Euclidean Image', euclidean_img)\n",
    "cv2.imshow('Similarity Image', similarity_img)\n",
    "cv2.imshow('Affine Image', affine_img)\n",
    "cv2.imshow('Projective Image', projective_img)\n",
    "cv2.imshow('Flipped Image', img_flipped)\n",
    "\n",
    "cv2.waitKey(0)\n",
    "cv2.destroyAllWindows()"
   ]
  }
 ],
 "metadata": {
  "kernelspec": {
   "display_name": "base",
   "language": "python",
   "name": "python3"
  },
  "language_info": {
   "codemirror_mode": {
    "name": "ipython",
    "version": 3
   },
   "file_extension": ".py",
   "mimetype": "text/x-python",
   "name": "python",
   "nbconvert_exporter": "python",
   "pygments_lexer": "ipython3",
   "version": "3.10.9"
  },
  "orig_nbformat": 4,
  "vscode": {
   "interpreter": {
    "hash": "8c46ac5aaab4d3c9f2f9be91c3b9b95f2b8ede1f4aae554ca1e34eefcba1468b"
   }
  }
 },
 "nbformat": 4,
 "nbformat_minor": 2
}
